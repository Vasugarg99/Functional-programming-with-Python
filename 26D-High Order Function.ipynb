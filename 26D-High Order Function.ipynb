{
 "cells": [
  {
   "cell_type": "markdown",
   "metadata": {},
   "source": [
    "# The operator module - operators as regular functions"
   ]
  },
  {
   "cell_type": "markdown",
   "metadata": {},
   "source": [
    "Let's take our old friend: the factorial function!"
   ]
  },
  {
   "cell_type": "code",
   "execution_count": null,
   "metadata": {},
   "outputs": [],
   "source": [
    "l_factorial = lambda n: 1 if n == 0 else n*l_factorial(n-1)"
   ]
  },
  {
   "cell_type": "markdown",
   "metadata": {},
   "source": [
    "## Chaining functions and combining return values\n",
    "\n",
    "Say that we want to call this function a number of times, with different arguments, and do something with the return values. How can we do that?"
   ]
  },
  {
   "cell_type": "code",
   "execution_count": null,
   "metadata": {},
   "outputs": [],
   "source": [
    "def chain_mul(*what):\n",
    "    \n",
    "    \"\"\"Takes a list of (function, argument) tuples. Calls each\n",
    "    function with its argument, multiplies up the return values,\n",
    "    (starting at 1) and returns the total.\"\"\"\n",
    "    \n",
    "    total = 1\n",
    "    for (fnc, arg) in what:\n",
    "        total *= fnc(arg)\n",
    "    return total\n",
    "\n",
    "\n",
    "chain_mul( (l_factorial, 2), (l_factorial, 3) )"
   ]
  },
  {
   "cell_type": "markdown",
   "metadata": {},
   "source": [
    "## Operators as regular functions\n",
    "\n",
    "The function above is not very general: it can only multiple values, not multiply or subtract them. Ideally, we would pass an operator to the function as well. But `*` is syntax and not an object that we can pass! Fortunately, the Python's built-in `operator` module offers all operators as regular functions."
   ]
  },
  {
   "cell_type": "code",
   "execution_count": null,
   "metadata": {},
   "outputs": [],
   "source": [
    "import operator\n",
    "\n",
    "def chain(how, *what):\n",
    "        \n",
    "    total = 1\n",
    "    for (fnc, arg) in what:\n",
    "        total = how(total, fnc(arg))\n",
    "    return total\n",
    "\n",
    "\n",
    "chain(operator.truediv, (l_factorial, 2), (l_factorial, 3) )"
   ]
  }
 ],
 "metadata": {
  "kernelspec": {
   "display_name": "Python 3",
   "language": "python",
   "name": "python3"
  },
  "language_info": {
   "codemirror_mode": {
    "name": "ipython",
    "version": 3
   },
   "file_extension": ".py",
   "mimetype": "text/x-python",
   "name": "python",
   "nbconvert_exporter": "python",
   "pygments_lexer": "ipython3",
   "version": "3.6.3"
  }
 },
 "nbformat": 4,
 "nbformat_minor": 2
}
