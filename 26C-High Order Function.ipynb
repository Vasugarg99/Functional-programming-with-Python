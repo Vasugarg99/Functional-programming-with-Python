{
 "cells": [
  {
   "cell_type": "markdown",
   "metadata": {},
   "source": [
    "# Returning a function from another function"
   ]
  },
  {
   "cell_type": "markdown",
   "metadata": {},
   "source": [
    "## Four steps to baking a (pre-baked) cake\n",
    "\n",
    "In the notebook, we often eat pre-baked cake for breakfast. To bake them, you need to perform four steps:"
   ]
  },
  {
   "cell_type": "code",
   "execution_count": null,
   "metadata": {
    "collapsed": true
   },
   "outputs": [],
   "source": [
    "preheat_oven = lambda: print('Preheating oven')\n",
    "put_cake_in = lambda: print('Putting cake in')\n",
    "wait_five_minutes = lambda: print('Waiting five minutes')\n",
    "take_cake_out = lambda: print('Take cake out (and eat them!)')"
   ]
  },
  {
   "cell_type": "markdown",
   "metadata": {},
   "source": [
    "Now let's perform all these steps in order!"
   ]
  },
  {
   "cell_type": "code",
   "execution_count": null,
   "metadata": {},
   "outputs": [],
   "source": [
    "preheat_oven()\n",
    "put_cake_in()\n",
    "wait_five_minutes()\n",
    "take_cake_out()"
   ]
  },
  {
   "cell_type": "markdown",
   "metadata": {},
   "source": [
    "## Passing all steps to a launcher function\n",
    "\n",
    "Alternatively, we can create a launcher function (`peform_recipe()`) to which we pass all functions, and which then performs all these functions for us. This is, by itself, not very useful."
   ]
  },
  {
   "cell_type": "code",
   "execution_count": null,
   "metadata": {},
   "outputs": [],
   "source": [
    "def perform_recipe(*functions):\n",
    "    \n",
    "    for function in functions:\n",
    "        function()\n",
    "        \n",
    "        \n",
    "perform_recipe(preheat_oven,\n",
    "    put_cake_in,\n",
    "    wait_five_minutes,\n",
    "    take_cake_out)"
   ]
  },
  {
   "cell_type": "markdown",
   "metadata": {},
   "source": [
    "## Wrapping all steps into a single recipe\n",
    "\n",
    "But we can go even further! We can create a `create_recipe()` function that takes all functions, and returns a new function that executes all the passed functions for us!"
   ]
  },
  {
   "cell_type": "code",
   "execution_count": null,
   "metadata": {},
   "outputs": [],
   "source": [
    "def create_recipe(*functions):\n",
    "    \n",
    "    def run_all():\n",
    "        \n",
    "        for function in functions:\n",
    "            function()\n",
    "            \n",
    "    return run_all\n",
    "\n",
    "\n",
    "recipe = create_recipe(preheat_oven,\n",
    "    put_cake_in,\n",
    "    wait_five_minutes,\n",
    "    take_cake_out)\n",
    "recipe()"
   ]
  }
 ],
 "metadata": {
  "kernelspec": {
   "display_name": "Python 3",
   "language": "python",
   "name": "python3"
  },
  "language_info": {
   "codemirror_mode": {
    "name": "ipython",
    "version": 3
   },
   "file_extension": ".py",
   "mimetype": "text/x-python",
   "name": "python",
   "nbconvert_exporter": "python",
   "pygments_lexer": "ipython3",
   "version": "3.6.3"
  }
 },
 "nbformat": 4,
 "nbformat_minor": 2
}
