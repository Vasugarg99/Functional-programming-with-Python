{
 "cells": [
  {
   "cell_type": "markdown",
   "metadata": {},
   "source": [
    "## Basic dict operations\n",
    "\n",
    "- A `dict` is defined using curly braces (`{}`) with key-value mappings\n",
    "- Both the keys and values can be any Python object—or almost, because keys must be hashable (but most objects are)"
   ]
  },
  {
   "cell_type": "code",
   "execution_count": 1,
   "metadata": {
    "collapsed": false
   },
   "outputs": [
    {
     "name": "stdout",
     "output_type": "stream",
     "text": [
      "{'Praying Mantis': 'Insect', 'Whale': 'Mammal'}\n"
     ]
    }
   ],
   "source": [
    "d = {\n",
    "    'Praying Mantis'    : 'Insect',\n",
    "    'Whale'             : 'Mammal'\n",
    "}\n",
    "print(d)"
   ]
  },
  {
   "cell_type": "markdown",
   "metadata": {},
   "source": [
    "A `dict` is mutable, so you can add and remove elements."
   ]
  },
  {
   "cell_type": "code",
   "execution_count": 3,
   "metadata": {
    "collapsed": false
   },
   "outputs": [
    {
     "name": "stdout",
     "output_type": "stream",
     "text": [
      "{'Praying Mantis': 'Insect', 'Lizard': 'Reptile'}\n"
     ]
    }
   ],
   "source": [
    "d['Lizard'] = 'Reptile'\n",
    "print(d)"
   ]
  },
  {
   "cell_type": "markdown",
   "metadata": {},
   "source": [
    "## Iterating through a `dict`\n",
    "\n",
    "- By default, a `dict` iterates over its keys\n",
    "- But you can also iterate over its values using `d.values()`\n",
    "- Or iterate over `key, value` tuples using `d.items()` or (destructively) using `d.popitem()`\n",
    "\n",
    "*Important:* Don't assume that elements are returned in a particular order! (Even though some implementations of Python do that.)"
   ]
  },
  {
   "cell_type": "code",
   "execution_count": 9,
   "metadata": {
    "collapsed": false
   },
   "outputs": [
    {
     "name": "stdout",
     "output_type": "stream",
     "text": [
      "Lizard Reptile\n",
      "Whale Mammal\n",
      "Praying Mantis Insect\n",
      "{}\n"
     ]
    }
   ],
   "source": [
    "d = {\n",
    "    'Praying Mantis'    : 'Insect',\n",
    "    'Whale'             : 'Mammal',\n",
    "    'Lizard'            : 'Reptile'\n",
    "}\n",
    "\n",
    "while d:\n",
    "    species, class_ = d.popitem()\n",
    "    print(species, class_)\n",
    "print(d)"
   ]
  }
 ],
 "metadata": {
  "kernelspec": {
   "display_name": "Python 3",
   "language": "python",
   "name": "python3"
  },
  "language_info": {
   "codemirror_mode": {
    "name": "ipython",
    "version": 3
   },
   "file_extension": ".py",
   "mimetype": "text/x-python",
   "name": "python",
   "nbconvert_exporter": "python",
   "pygments_lexer": "ipython3",
   "version": "3.6.3rc1"
  }
 },
 "nbformat": 4,
 "nbformat_minor": 2
}
