{
 "cells": [
  {
   "cell_type": "markdown",
   "metadata": {},
   "source": [
    "## Two Generators in parallel\n",
    "\n",
    "The simplest way to run two Generators in parallel is to `zip()` them together in a `for` loop."
   ]
  },
  {
   "cell_type": "code",
   "execution_count": 1,
   "metadata": {
    "collapsed": false
   },
   "outputs": [
    {
     "name": "stdout",
     "output_type": "stream",
     "text": [
      "1 0\n",
      "1 1\n",
      "2 1\n",
      "3 2\n",
      "5 4\n",
      "8 7\n",
      "13 13\n",
      "21 24\n",
      "34 44\n",
      "55 81\n"
     ]
    }
   ],
   "source": [
    "def fibonacci():\n",
    "        \n",
    "    yield 1\n",
    "    yield 1\n",
    "    l = [1, 1]\n",
    "    while True:\n",
    "        l = [l[-1], sum(l[-2:])]\n",
    "        yield l[-1]\n",
    "        \n",
    "\n",
    "def tribonacci():\n",
    "\n",
    "    yield 0\n",
    "    yield 1\n",
    "    yield 1\n",
    "    l = [0, 1, 1]\n",
    "    while True:\n",
    "        l = [l[-2], l[-1], sum(l[-3:])]\n",
    "        yield l[-1]\n",
    "\n",
    "\n",
    "for i, (f, t) in enumerate(zip(fibonacci(), tribonacci())):\n",
    "    if i == 10:\n",
    "        break\n",
    "    print(f, t)\n"
   ]
  },
  {
   "cell_type": "markdown",
   "metadata": {},
   "source": [
    "## Letting two Generators communicate\n",
    "\n",
    "Let's consider a slightly more complicated example in which two Generators need to communicate with each other. The `speaker` returns random sentences. These are received by the `replier`, who aborts the conversation when the `speaker` has said 'Bye!' and otherwise replies with a random sentence."
   ]
  },
  {
   "cell_type": "code",
   "execution_count": 2,
   "metadata": {
    "collapsed": false
   },
   "outputs": [
    {
     "name": "stdout",
     "output_type": "stream",
     "text": [
      "Received: Fine, thank you!\n",
      "Replied: Just chillin\n",
      "Received: Just chillin\n",
      "Replied: Bye!\n",
      "Received: Fine, thank you!\n",
      "Replied: Fine, thank you!\n",
      "Received: Fine, thank you!\n",
      "Replied: Fine, thank you!\n",
      "Received: Bye!\n"
     ]
    }
   ],
   "source": [
    "\n",
    "import random\n",
    "\n",
    "\n",
    "SENTENCES = [\n",
    "    'How are you?',\n",
    "    'Fine, thank you!',\n",
    "    'Nothing much',\n",
    "    'Just chillin',\n",
    "    'Bye!'\n",
    "    ]\n",
    "\n",
    "\n",
    "def speaker():\n",
    "    \n",
    "    while True:\n",
    "        yield random.choice(SENTENCES)\n",
    "\n",
    "        \n",
    "def replier():\n",
    "    \n",
    "    while True:\n",
    "        recv = yield\n",
    "        print('Received: %s' % recv)\n",
    "        if recv == 'Bye!':\n",
    "            break\n",
    "        print('Replied: %s' % random.choice(SENTENCES))\n",
    "        \n",
    "s = speaker()\n",
    "r = replier()\n",
    "r.send(None)\n",
    "while True:\n",
    "    recv = s.send(None)\n",
    "    try:\n",
    "        r.send(recv)\n",
    "    except StopIteration:\n",
    "        break\n"
   ]
  }
 ],
 "metadata": {
  "kernelspec": {
   "display_name": "Python 3",
   "language": "python",
   "name": "python3"
  },
  "language_info": {
   "codemirror_mode": {
    "name": "ipython",
    "version": 3
   },
   "file_extension": ".py",
   "mimetype": "text/x-python",
   "name": "python",
   "nbconvert_exporter": "python",
   "pygments_lexer": "ipython3",
   "version": "3.6.3"
  }
 },
 "nbformat": 4,
 "nbformat_minor": 2
}
