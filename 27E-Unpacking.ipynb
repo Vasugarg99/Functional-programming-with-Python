{
 "cells": [
  {
   "cell_type": "markdown",
   "metadata": {},
   "source": [
    "## Iterator unpacking\n",
    "\n",
    "When the right side of an assignment consists of multiple values, you get a list or a tuple. This is a regular assignment, and allows you to construct `tuple`s, `list`s, and `set`s."
   ]
  },
  {
   "cell_type": "code",
   "execution_count": 1,
   "metadata": {
    "collapsed": false
   },
   "outputs": [],
   "source": [
    "animals = 'Praying Mantis', 'Ant', 'Whale', 'Lizard'"
   ]
  },
  {
   "cell_type": "markdown",
   "metadata": {},
   "source": [
    "But the left side can also consist of multiple variables! This is called *unpacking* or *multiple assignment*.\n"
   ]
  },
  {
   "cell_type": "code",
   "execution_count": 3,
   "metadata": {
    "collapsed": false
   },
   "outputs": [
    {
     "name": "stdout",
     "output_type": "stream",
     "text": [
      "Praying Mantis Ant Whale Lizard\n"
     ]
    }
   ],
   "source": [
    "a1, a2, a3, a4 = animals\n",
    "print(a1, a2, a3, a4)"
   ]
  },
  {
   "cell_type": "markdown",
   "metadata": {},
   "source": [
    "## Unpacking nested iterators\n",
    "\n",
    "Iterators that consist of iterators can be unpacked in one go!"
   ]
  },
  {
   "cell_type": "code",
   "execution_count": 4,
   "metadata": {
    "collapsed": false
   },
   "outputs": [
    {
     "name": "stdout",
     "output_type": "stream",
     "text": [
      "Praying Mantis Ant Whale Lizard\n"
     ]
    }
   ],
   "source": [
    "animals_by_class = ('Praying Mantis', 'Ant'), 'Whale', 'Lizard'\n",
    "(a1, a2), a3, a4 = animals_by_class\n",
    "print(a1, a2, a3, a4)"
   ]
  },
  {
   "cell_type": "markdown",
   "metadata": {},
   "source": [
    "## Unpacking an iterator with an unknown length\n",
    "\n",
    "- Or: Star unpacking\n",
    "- Or: Extended iterator unpacking\n",
    "\n",
    "*Note for Python 2: This is only supported in Python 3*\n",
    "\n",
    "If you don't know how long an iterator is, you can capture the first and last items, and capture all the middle items in a rest variable.\n"
   ]
  },
  {
   "cell_type": "code",
   "execution_count": 6,
   "metadata": {
    "collapsed": false
   },
   "outputs": [
    {
     "name": "stdout",
     "output_type": "stream",
     "text": [
      "Praying Mantis ['Ant', 'Whale'] Lizard\n"
     ]
    }
   ],
   "source": [
    "animals = 'Praying Mantis', 'Ant', 'Whale', 'Lizard'\n",
    "a1, *rest, a2 = animals\n",
    "print(a1, rest, a2)"
   ]
  },
  {
   "cell_type": "markdown",
   "metadata": {},
   "source": [
    "## Unpacking a `dict`\n",
    "\n",
    "If you directly unpack a `dict`, you get the keys (in an unpredictable order!)."
   ]
  },
  {
   "cell_type": "code",
   "execution_count": 8,
   "metadata": {
    "collapsed": false
   },
   "outputs": [
    {
     "name": "stdout",
     "output_type": "stream",
     "text": [
      "Praying Mantis Ant Whale Lizard\n"
     ]
    }
   ],
   "source": [
    "animals_and_classes = {\n",
    "    'Praying Mantis'    : 'Insect',\n",
    "    'Ant'               : 'Insect',\n",
    "    'Whale'             : 'Mammal',\n",
    "    'Lizard'            : 'Reptile'\n",
    "}\n",
    "\n",
    "a1, a2, a3, a4 = animals_and_classes\n",
    "print(a1, a2, a3, a4)"
   ]
  },
  {
   "cell_type": "markdown",
   "metadata": {},
   "source": [
    "To get the keys and the values, you can use the `dict.items()` function, and then unpack the result as a nested iterator."
   ]
  },
  {
   "cell_type": "code",
   "execution_count": 9,
   "metadata": {
    "collapsed": false
   },
   "outputs": [
    {
     "name": "stdout",
     "output_type": "stream",
     "text": [
      "Praying Mantis Insect\n",
      "Ant Insect\n",
      "Whale Mammal\n",
      "Lizard Reptile\n"
     ]
    }
   ],
   "source": [
    "(k1, v1), (k2, v2), (k3, v3), (k4, v4) = animals_and_classes.items()\n",
    "print(k1, v1)\n",
    "print(k2, v2)\n",
    "print(k3, v3)\n",
    "print(k4, v4)"
   ]
  }
 ],
 "metadata": {
  "kernelspec": {
   "display_name": "Python 3",
   "language": "python",
   "name": "python3"
  },
  "language_info": {
   "codemirror_mode": {
    "name": "ipython",
    "version": 3
   },
   "file_extension": ".py",
   "mimetype": "text/x-python",
   "name": "python",
   "nbconvert_exporter": "python",
   "pygments_lexer": "ipython3",
   "version": "3.6.3rc1"
  }
 },
 "nbformat": 4,
 "nbformat_minor": 2
}
