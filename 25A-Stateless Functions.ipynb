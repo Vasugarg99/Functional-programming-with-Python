{
 "cells": [
  {
   "cell_type": "markdown",
   "metadata": {},
   "source": [
    "# Stateless functions without side-effects always produce the same result\n",
    "\n",
    "Or: *Referential transparency*\n",
    "\n",
    "## A stateful example\n",
    "\n",
    "Using `global` variables in functions is one example of relying on, and modifying state."
   ]
  },
  {
   "cell_type": "code",
   "execution_count": 1,
   "metadata": {
    "collapsed": true
   },
   "outputs": [],
   "source": [
    "current_speaker = None\n",
    "def register(name):\n",
    "    global current_speaker\n",
    "    current_speaker = name\n",
    "        \n",
    "def speak(text):\n",
    "    print('[%s] %s' % (current_speaker, text))"
   ]
  },
  {
   "cell_type": "code",
   "execution_count": 2,
   "metadata": {},
   "outputs": [
    {
     "name": "stdout",
     "output_type": "stream",
     "text": [
      "[Sumit] Hello world!\n",
      "[Amit] Python!\n"
     ]
    }
   ],
   "source": [
    "register('Sumit')\n",
    "speak('Hello world!')\n",
    "register('Amit')\n",
    "speak('Python!')"
   ]
  },
  {
   "cell_type": "markdown",
   "metadata": {},
   "source": [
    "## Objects are also states\n",
    "\n",
    "Objects are, by definition, states. Therefore, methods (object functions) are stateful."
   ]
  },
  {
   "cell_type": "code",
   "execution_count": 3,
   "metadata": {
    "collapsed": true
   },
   "outputs": [],
   "source": [
    "class Speaker():\n",
    "    def __init__(self, name):\n",
    "        self._name = name\n",
    "    def speak(self, text):\n",
    "        print('[%s] %s' % (self._name, text))"
   ]
  },
  {
   "cell_type": "code",
   "execution_count": 4,
   "metadata": {},
   "outputs": [
    {
     "name": "stdout",
     "output_type": "stream",
     "text": [
      "[Sumit] Hello world!\n",
      "[Amit] Python!\n"
     ]
    }
   ],
   "source": [
    "john = Speaker('Sumit')\n",
    "john.speak('Hello world!')\n",
    "carlos = Speaker('Amit')\n",
    "carlos.speak('Python!')"
   ]
  },
  {
   "cell_type": "markdown",
   "metadata": {},
   "source": [
    "## Stateless functions are often trivial\n",
    "\n",
    "A stateless function relies only on:\n",
    "\n",
    "- The arguments that have been passed to the function\n",
    "- Return values from other (stateless) functions\n",
    "\n",
    "The result is often a very simple function. But when was simplicity ever a bad thing?"
   ]
  },
  {
   "cell_type": "code",
   "execution_count": 5,
   "metadata": {
    "collapsed": true
   },
   "outputs": [],
   "source": [
    "def speak(speaker, text):\n",
    "    print('[%s] %s' % (speaker, text))"
   ]
  },
  {
   "cell_type": "code",
   "execution_count": 6,
   "metadata": {},
   "outputs": [
    {
     "name": "stdout",
     "output_type": "stream",
     "text": [
      "[Sumit] Hello world!\n",
      "[Amit] Python!\n"
     ]
    }
   ],
   "source": [
    "john = 'Sumit'\n",
    "speak(john, 'Hello world!')\n",
    "carlos = 'Amit'\n",
    "speak(carlos, 'Python!')"
   ]
  },
  {
   "cell_type": "code",
   "execution_count": null,
   "metadata": {
    "collapsed": true
   },
   "outputs": [],
   "source": []
  }
 ],
 "metadata": {
  "kernelspec": {
   "display_name": "Python 3",
   "language": "python",
   "name": "python3"
  },
  "language_info": {
   "codemirror_mode": {
    "name": "ipython",
    "version": 3
   },
   "file_extension": ".py",
   "mimetype": "text/x-python",
   "name": "python",
   "nbconvert_exporter": "python",
   "pygments_lexer": "ipython3",
   "version": "3.6.3"
  }
 },
 "nbformat": 4,
 "nbformat_minor": 2
}
