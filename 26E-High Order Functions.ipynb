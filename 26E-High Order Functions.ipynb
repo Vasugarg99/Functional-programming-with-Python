{
 "cells": [
  {
   "cell_type": "markdown",
   "metadata": {},
   "source": [
    "# Python Higher-Order Functions\n",
    "\n",
    "In Python, functions are treated as first class objects, allowing you to perform the following operations on functions.\n",
    "\n",
    "    1. A function can take one or more functions as arguments\n",
    "    2. A function can be returned as a result of another function"
   ]
  },
  {
   "cell_type": "markdown",
   "metadata": {},
   "source": [
    "# First class functions and High-order functions\n",
    "\n",
    "Functions being first class means that they can appear anywhere in a program, including return values and arguments of other functions"
   ]
  },
  {
   "cell_type": "code",
   "execution_count": null,
   "metadata": {},
   "outputs": [],
   "source": [
    "def greet(name):\n",
    "    print(\"Hello %s!\" % name)\n",
    " \n",
    "say_hello = greet\n",
    "say_hello('World')\n",
    "# Hello World!"
   ]
  },
  {
   "cell_type": "code",
   "execution_count": null,
   "metadata": {},
   "outputs": [],
   "source": [
    "def summation(nums): # normal function\n",
    "    return sum(nums)\n",
    "\n",
    "def main(f, *args): # function as an argument\n",
    "    result = f(*args)\n",
    "    print(result)\n",
    "\n",
    "if __name__ == \"__main__\":\n",
    "    main(summation, [1,2,3]) # output 6"
   ]
  },
  {
   "cell_type": "markdown",
   "metadata": {},
   "source": [
    "## Having a function as a return value\n",
    "\n",
    "You can pass functions as one of the arguments to another function. This is shown in the following example."
   ]
  },
  {
   "cell_type": "code",
   "execution_count": null,
   "metadata": {},
   "outputs": [],
   "source": [
    "def add_tw0_nums(x, y): # normal function which returns data\n",
    "    return x + y\n",
    "\n",
    "def add_three_nums(x, y, z): # normal function which returns data\n",
    "    return x + y + z\n",
    "\n",
    "def get_appropriate_function(num_len): # function which returns functions depending on the logic\n",
    "    if num_len == 3:\n",
    "        return add_three_nums\n",
    "    else:\n",
    "        return add_tw0_nums\n",
    "\n",
    "\n",
    "if __name__ == \"__main__\":\n",
    "    args = [1, 2, 3]\n",
    "    num_len = len(args)\n",
    "    res_function = get_appropriate_function(num_len)\n",
    "    print(res_function)       # <function add_three_nums at 0x7f8f34173668>\n",
    "    print(res_function(*args)) # unpack the args, output 6\n",
    "\n",
    "    args = [1, 2]\n",
    "    num_len = len(args)\n",
    "    res_function = get_appropriate_function(num_len)\n",
    "    print(res_function)       # <function add_tw0_nums at 0x7f1630955e18>\n",
    "    print(res_function(*args)) # unpack the args, output 3"
   ]
  }
 ],
 "metadata": {
  "kernelspec": {
   "display_name": "Python 3",
   "language": "python",
   "name": "python3"
  },
  "language_info": {
   "codemirror_mode": {
    "name": "ipython",
    "version": 3
   },
   "file_extension": ".py",
   "mimetype": "text/x-python",
   "name": "python",
   "nbconvert_exporter": "python",
   "pygments_lexer": "ipython3",
   "version": "3.6.3"
  }
 },
 "nbformat": 4,
 "nbformat_minor": 2
}
