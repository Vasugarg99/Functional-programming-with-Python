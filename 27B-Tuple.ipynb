{
 "cells": [
  {
   "cell_type": "markdown",
   "metadata": {},
   "source": [
    "## Basic tuple operations\n",
    "\n",
    "- A `tuple` is just a comma-separated sequence of elements, or surrounded by parentheses if this is required to avoid ambiguity\n",
    "- A `tuple` element can be any Python object\n",
    "- A `tuple` is immutable, so you cannot `append()`, `insert()`, `pop()`, or `remove()` elements\n",
    "- But you can concatenate (`+`), which creates a new `tuple`"
   ]
  },
  {
   "cell_type": "code",
   "execution_count": 2,
   "metadata": {
    "collapsed": false
   },
   "outputs": [
    {
     "name": "stdout",
     "output_type": "stream",
     "text": [
      "('John', 24, 'Berlin')\n"
     ]
    }
   ],
   "source": [
    "t = 'John', 24\n",
    "t = t + ('Berlin',)\n",
    "print(t)"
   ]
  },
  {
   "cell_type": "markdown",
   "metadata": {},
   "source": [
    "## Working with sequences\n",
    "\n",
    "*Works with all built-in sequences*\n",
    "\n",
    "Python offers a clean syntax to perform common operations and checks with sequences:\n",
    "\n",
    "- Loop through elements with `for`\n",
    "- Check if an element exists with `in`\n",
    "- Repeat with `*`\n",
    "- Check number of elements with `len()`\n",
    "- Etc."
   ]
  },
  {
   "cell_type": "code",
   "execution_count": 7,
   "metadata": {
    "collapsed": false
   },
   "outputs": [
    {
     "data": {
      "text/plain": [
       "9"
      ]
     },
     "execution_count": 7,
     "metadata": {},
     "output_type": "execute_result"
    }
   ],
   "source": [
    "len(3 * t)"
   ]
  }
 ],
 "metadata": {
  "kernelspec": {
   "display_name": "Python 3",
   "language": "python",
   "name": "python3"
  },
  "language_info": {
   "codemirror_mode": {
    "name": "ipython",
    "version": 3
   },
   "file_extension": ".py",
   "mimetype": "text/x-python",
   "name": "python",
   "nbconvert_exporter": "python",
   "pygments_lexer": "ipython3",
   "version": "3.6.3rc1"
  }
 },
 "nbformat": 4,
 "nbformat_minor": 2
}
