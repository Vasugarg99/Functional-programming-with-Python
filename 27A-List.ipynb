{
 "cells": [
  {
   "cell_type": "markdown",
   "metadata": {},
   "source": [
    "## Basic list operations\n",
    "\n",
    "- A `list` is initialized with a square brackets around comma-separated elements\n",
    "- A `list` element can be any Python object\n",
    "- Add elements with `l.append()` and `l.insert()`\n",
    "- Remove elements `l.pop()` and `l.remove()`"
   ]
  },
  {
   "cell_type": "code",
   "execution_count": 5,
   "metadata": {
    "collapsed": false
   },
   "outputs": [
    {
     "name": "stdout",
     "output_type": "stream",
     "text": [
      "['Paris', 'Budapest']\n"
     ]
    }
   ],
   "source": [
    "l = ['Paris', 'Oslo', 'Budapest']\n",
    "l.remove('Oslo')\n",
    "print(l)"
   ]
  },
  {
   "cell_type": "markdown",
   "metadata": {},
   "source": [
    "## Slicing\n",
    "\n",
    "*Works with all built-in iterators, except `set` objects*\n",
    "\n",
    "- Get a single element through its position: `l[position]`\n",
    "- Get multiple elemetns through slicing: `l[from:to:steps]`\n",
    "- Negative steps reverse the order!"
   ]
  },
  {
   "cell_type": "code",
   "execution_count": 11,
   "metadata": {
    "collapsed": false
   },
   "outputs": [
    {
     "name": "stdout",
     "output_type": "stream",
     "text": [
      "['Budapest', 'Oslo', 'Paris']\n"
     ]
    }
   ],
   "source": [
    "l = ['Paris', 'Oslo', 'Budapest']\n",
    "print(l[::-1])"
   ]
  },
  {
   "cell_type": "markdown",
   "metadata": {},
   "source": [
    "## Copying\n",
    "\n",
    "To create a copy of a `list`, you need to explictly use `l.copy()` or get a complete slice: `l[:]`"
   ]
  },
  {
   "cell_type": "code",
   "execution_count": 14,
   "metadata": {
    "collapsed": false
   },
   "outputs": [
    {
     "name": "stdout",
     "output_type": "stream",
     "text": [
      "['Paris', 'Oslo', 'Budapest'] ['Paris', 'Oslo', 'Budapest', 'Kiev']\n"
     ]
    }
   ],
   "source": [
    "l1 = ['Paris', 'Oslo', 'Budapest']\n",
    "l2 = l1[:]\n",
    "l2.append('Kiev')\n",
    "print(l1, l2)"
   ]
  }
 ],
 "metadata": {
  "kernelspec": {
   "display_name": "Python 3",
   "language": "python",
   "name": "python3"
  },
  "language_info": {
   "codemirror_mode": {
    "name": "ipython",
    "version": 3
   },
   "file_extension": ".py",
   "mimetype": "text/x-python",
   "name": "python",
   "nbconvert_exporter": "python",
   "pygments_lexer": "ipython3",
   "version": "3.6.3rc1"
  }
 },
 "nbformat": 4,
 "nbformat_minor": 2
}
