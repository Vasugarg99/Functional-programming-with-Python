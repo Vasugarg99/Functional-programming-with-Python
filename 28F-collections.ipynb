{
 "cells": [
  {
   "cell_type": "markdown",
   "metadata": {},
   "source": [
    "## `collections.namedtuple`\n",
    "\n",
    "`namedtuple()` is a factory function; that is, it generates a class, and not an instance of a class (an object).\n",
    "\n",
    "So there are two steps:\n",
    "\n",
    "1. First, use `namedtuple()` to generate a `class`\n",
    "2. And then create an instance of this `class`"
   ]
  },
  {
   "cell_type": "code",
   "execution_count": 4,
   "metadata": {
    "collapsed": false
   },
   "outputs": [
    {
     "name": "stdout",
     "output_type": "stream",
     "text": [
      "Sean Carter is 47 years old\n"
     ]
    }
   ],
   "source": [
    "from collections import namedtuple\n",
    "\n",
    "Person = namedtuple('Person', ['name', 'age'])\n",
    "jay_z = Person(name='Sean Carter', age=47)\n",
    "print('%s is %s years old' % (jay_z.name, jay_z.age))"
   ]
  },
  {
   "cell_type": "markdown",
   "metadata": {},
   "source": [
    "## `collections.OrderedDict`\n",
    "\n",
    "If your code requires that the order of elements in a `dict` is preserved, use `OrderedDict`—even if your version of Python (e.g. CPython 3.6) already does this!\n",
    "\n",
    "Otherwise, `OrderedDict` behaves exactly like a regular `dict`."
   ]
  },
  {
   "cell_type": "code",
   "execution_count": 5,
   "metadata": {
    "collapsed": false
   },
   "outputs": [
    {
     "name": "stdout",
     "output_type": "stream",
     "text": [
      "Lizard is a Reptile\n",
      "Whale is a Mammal\n"
     ]
    }
   ],
   "source": [
    "from collections import OrderedDict\n",
    "\n",
    "d = OrderedDict([\n",
    "    ('Lizard', 'Reptile'),\n",
    "    ('Whale', 'Mammal')\n",
    "])\n",
    "\n",
    "for species, class_ in d.items():\n",
    "    print('%s is a %s' % (species, class_))\n"
   ]
  },
  {
   "cell_type": "markdown",
   "metadata": {},
   "source": [
    "## collections.defaultdict\n",
    "\n",
    "Use `defaultdict` if you want non-existing keys to return a default value, rather than raise a `KeyError`.\n",
    "\n",
    "Otherwise, `OrderedDict` behaves exactly like a regular `dict`."
   ]
  },
  {
   "cell_type": "code",
   "execution_count": 11,
   "metadata": {
    "collapsed": false
   },
   "outputs": [
    {
     "name": "stdout",
     "output_type": "stream",
     "text": [
      "Ruby\n"
     ]
    }
   ],
   "source": [
    "from collections import defaultdict\n",
    "\n",
    "favorite_programming_languages = {\n",
    "    'Claire' : 'Assembler',\n",
    "    'John' : 'Ruby',\n",
    "    'Sarah' : 'JavaScript'\n",
    "}\n",
    "\n",
    "d = defaultdict(lambda: 'Python')\n",
    "d.update(favorite_programming_languages)\n",
    "print(d['John'])"
   ]
  }
 ],
 "metadata": {
  "kernelspec": {
   "display_name": "Python 3",
   "language": "python",
   "name": "python3"
  },
  "language_info": {
   "codemirror_mode": {
    "name": "ipython",
    "version": 3
   },
   "file_extension": ".py",
   "mimetype": "text/x-python",
   "name": "python",
   "nbconvert_exporter": "python",
   "pygments_lexer": "ipython3",
   "version": "3.6.3"
  }
 },
 "nbformat": 4,
 "nbformat_minor": 2
}
