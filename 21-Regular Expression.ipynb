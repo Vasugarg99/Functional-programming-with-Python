{
 "cells": [
  {
   "cell_type": "markdown",
   "metadata": {},
   "source": [
    "# match() function"
   ]
  },
  {
   "cell_type": "code",
   "execution_count": 88,
   "metadata": {},
   "outputs": [
    {
     "name": "stdout",
     "output_type": "stream",
     "text": [
      "sells is not present in the string\n"
     ]
    }
   ],
   "source": [
    "import re\n",
    "str = \"She sells sea shells on the sea shore\"\n",
    "pattern1 = \"sells\"\n",
    "if re.match(pattern1, str):\n",
    "    print(\"Match Found\")\n",
    "else:\n",
    "    print(pattern1, \"is not present in the string\")   "
   ]
  },
  {
   "cell_type": "code",
   "execution_count": 89,
   "metadata": {},
   "outputs": [
    {
     "name": "stdout",
     "output_type": "stream",
     "text": [
      "Match Found\n"
     ]
    }
   ],
   "source": [
    "pattern2 = \"She\"\n",
    "if re.match(pattern2, str):\n",
    "    print(\"Match Found\")\n",
    "else:\n",
    "    print(pattern1, \"is not present in the string\")   "
   ]
  },
  {
   "cell_type": "markdown",
   "metadata": {},
   "source": [
    "# search() function"
   ]
  },
  {
   "cell_type": "code",
   "execution_count": 90,
   "metadata": {},
   "outputs": [
    {
     "name": "stdout",
     "output_type": "stream",
     "text": [
      "Match Found\n"
     ]
    }
   ],
   "source": [
    "import re\n",
    "str = \"She sells sea shells on the sea shore\"\n",
    "pattern3 = \"sells\"\n",
    "if re.search(pattern3, str):\n",
    "    print(\"Match Found\")\n",
    "else:\n",
    "    print(pattern1, \"is not present in the string\")   "
   ]
  },
  {
   "cell_type": "markdown",
   "metadata": {},
   "source": [
    "# sub() function"
   ]
  },
  {
   "cell_type": "code",
   "execution_count": 93,
   "metadata": {},
   "outputs": [
    {
     "name": "stdout",
     "output_type": "stream",
     "text": [
      "She sells ocean shells on the ocean shore ocean ocean\n"
     ]
    }
   ],
   "source": [
    "import re\n",
    "str = \"She sells sea shells on the sea shore sea sea\"\n",
    "pattern4 = \"sea\"\n",
    "repl = \"ocean\"\n",
    "new_str = re.sub(pattern4, repl, str)\n",
    "print(new_str)"
   ]
  },
  {
   "cell_type": "markdown",
   "metadata": {},
   "source": [
    "# findall() function"
   ]
  },
  {
   "cell_type": "code",
   "execution_count": 95,
   "metadata": {
    "collapsed": true
   },
   "outputs": [],
   "source": [
    "import re\n",
    "pattern5 = r\"[a-zA-Z]+ \\d+\"\n",
    "mat = re.findall(pattern5,\"LXI 2013, VXI 2015, VDI 2014,Maruti Suzuki Cars in India\")\n",
    "for i in mat:\n",
    "    print(i,end=\" \")"
   ]
  },
  {
   "cell_type": "markdown",
   "metadata": {},
   "source": [
    "# find a word in the String"
   ]
  },
  {
   "cell_type": "code",
   "execution_count": 96,
   "metadata": {},
   "outputs": [
    {
     "name": "stdout",
     "output_type": "stream",
     "text": [
      "{'Amit': '22', 'Ram': '33', 'Sam': '44', 'John': '21'}\n"
     ]
    }
   ],
   "source": [
    "import re\n",
    "nameAge = '''Amit is 22 and Ram is 33\n",
    "Sam is 44 and John is 21\n",
    "'''\n",
    "\n",
    "age = re.findall(r'\\d{1,3}',nameAge)\n",
    "name = re.findall(r'[A-Z][a-z]*',nameAge)\n",
    "\n",
    "ageD = {}\n",
    "x=0\n",
    "for i in name:\n",
    "    ageD[i]=age[x]\n",
    "    x+=1\n",
    "    \n",
    "print(ageD)\n"
   ]
  },
  {
   "cell_type": "markdown",
   "metadata": {},
   "source": [
    "# find a range of character"
   ]
  },
  {
   "cell_type": "code",
   "execution_count": 102,
   "metadata": {},
   "outputs": [
    {
     "name": "stdout",
     "output_type": "stream",
     "text": [
      "hat\n",
      "mat\n"
     ]
    }
   ],
   "source": [
    "import re\n",
    "str = \"sat, hat, pat, mat\"\n",
    "\n",
    "s = re.findall(\"[h-m]at\",str)\n",
    "for i in s:\n",
    "    print(i)"
   ]
  },
  {
   "cell_type": "code",
   "execution_count": 103,
   "metadata": {},
   "outputs": [
    {
     "name": "stdout",
     "output_type": "stream",
     "text": [
      "Sat\n",
      "pat\n"
     ]
    }
   ],
   "source": [
    "import re\n",
    "str = \"Sat, hat, pat, mat\"\n",
    "\n",
    "s = re.findall(\"[^h-m]at\",str)\n",
    "for i in s:\n",
    "    print(i)"
   ]
  },
  {
   "cell_type": "markdown",
   "metadata": {},
   "source": [
    "# replace a string"
   ]
  },
  {
   "cell_type": "code",
   "execution_count": 105,
   "metadata": {},
   "outputs": [
    {
     "name": "stdout",
     "output_type": "stream",
     "text": [
      "hat food pat mat\n"
     ]
    }
   ],
   "source": [
    "import re\n",
    "str = \"hat rat pat mat\"\n",
    "\n",
    "regex = re.compile(\"rat\")\n",
    "s = regex.sub(\"food\", str)\n",
    "print(s)"
   ]
  },
  {
   "cell_type": "markdown",
   "metadata": {},
   "source": [
    "# matches a single character"
   ]
  },
  {
   "cell_type": "code",
   "execution_count": 106,
   "metadata": {},
   "outputs": [
    {
     "name": "stdout",
     "output_type": "stream",
     "text": [
      "Matches:  5\n"
     ]
    }
   ],
   "source": [
    "import re\n",
    "str = \"12345\"\n",
    "print(\"Matches: \",len(re.findall(\"\\d\",str)))"
   ]
  },
  {
   "cell_type": "code",
   "execution_count": 107,
   "metadata": {},
   "outputs": [
    {
     "name": "stdout",
     "output_type": "stream",
     "text": [
      "Matches:  0\n"
     ]
    }
   ],
   "source": [
    "import re\n",
    "str = \"12345\"\n",
    "print(\"Matches: \",len(re.findall(\"\\D\",str)))"
   ]
  },
  {
   "cell_type": "code",
   "execution_count": 108,
   "metadata": {},
   "outputs": [
    {
     "name": "stdout",
     "output_type": "stream",
     "text": [
      "Matches:  1\n"
     ]
    }
   ],
   "source": [
    "import re\n",
    "str = \"12345\"\n",
    "print(\"Matches: \",len(re.findall(\"\\d{5}\",str)))"
   ]
  },
  {
   "cell_type": "code",
   "execution_count": 109,
   "metadata": {},
   "outputs": [
    {
     "name": "stdout",
     "output_type": "stream",
     "text": [
      "Matches:  3\n"
     ]
    }
   ],
   "source": [
    "import re\n",
    "str = \"123 1234 12345 123456 1234567\"\n",
    "print(\"Matches: \",len(re.findall(\"\\d{5,7}\",str)))"
   ]
  },
  {
   "cell_type": "markdown",
   "metadata": {},
   "source": [
    "# Phone number verification\n",
    "\n",
    "3 starting digits and - sign\n",
    "\n",
    "3 middle digits and - sign\n",
    "\n",
    "4 digit in the end"
   ]
  },
  {
   "cell_type": "code",
   "execution_count": 110,
   "metadata": {},
   "outputs": [
    {
     "name": "stdout",
     "output_type": "stream",
     "text": [
      "valid phone number\n",
      "not valid numner\n"
     ]
    }
   ],
   "source": [
    "# \\w [a-zA-Z0-9]\n",
    "#\\W [^a-zA-Z0-9]\n",
    "# \\s [\\f\\n\\t\\v\\r]\n",
    "# \\S [^\\f\\n\\t\\v\\r]\n",
    "\n",
    "phone = \"412-345-1234\"\n",
    "phone1 = \"412-345-123\"\n",
    "\n",
    "if re.search(\"\\w{3}-\\w{3}-\\w{4}\",phone):\n",
    "    print(\"valid phone number\")\n",
    "    \n",
    "if re.search(\"\\w{3}-\\w{3}-\\w{4}\",phone1):\n",
    "    print(\"valid phone number\")\n",
    "else:\n",
    "    print(\"not valid numner\")"
   ]
  },
  {
   "cell_type": "code",
   "execution_count": 113,
   "metadata": {},
   "outputs": [
    {
     "name": "stdout",
     "output_type": "stream",
     "text": [
      "valid name\n"
     ]
    }
   ],
   "source": [
    "name=\"Amit Sharma\"\n",
    "if re.search(\"\\w{2,20}\\s\\w{2,20}\",name):\n",
    "    print(\"valid name\")"
   ]
  },
  {
   "cell_type": "markdown",
   "metadata": {},
   "source": [
    "# email verification\n",
    "\n",
    "1-20 lowercase and uppercase letters, number, plus ._%+-\n",
    "\n",
    "An @ sysmbol\n",
    "\n",
    "2 to 20 lowercase and uppercase letter numbers, plus .-\n",
    "\n",
    "A peroid\n",
    "\n",
    "2 to 3 lowercase and uppercase letter"
   ]
  },
  {
   "cell_type": "code",
   "execution_count": 114,
   "metadata": {},
   "outputs": [
    {
     "name": "stdout",
     "output_type": "stream",
     "text": [
      "Email Matches: 1\n"
     ]
    }
   ],
   "source": [
    "import re\n",
    "email = \"sk@aol.com md@com sam@ @sec.com  dc@.com\"\n",
    "print(\"Email Matches:\", len(re.findall(\"[\\w._%+-]{1,20}@[\\w.-]{2,20}.[A-Za-z]{2,3}\",email)))"
   ]
  },
  {
   "cell_type": "markdown",
   "metadata": {},
   "source": [
    "# web scarping"
   ]
  },
  {
   "cell_type": "code",
   "execution_count": 115,
   "metadata": {},
   "outputs": [
    {
     "name": "stdout",
     "output_type": "stream",
     "text": [
      "(257) 563-7401\n",
      "(372) 587-2335\n",
      "(786) 713-8616\n",
      "(793) 151-6230\n",
      "(492) 709-6392\n",
      "(654) 393-5734\n",
      "(404) 960-3807\n",
      "(314) 244-6306\n",
      "(947) 278-5929\n",
      "(684) 579-1879\n",
      "(389) 737-2852\n",
      "(660) 663-4518\n",
      "(608) 265-2215\n",
      "(959) 119-8364\n",
      "(468) 353-2641\n",
      "(248) 675-4007\n",
      "(939) 353-1107\n",
      "(570) 873-7090\n",
      "(302) 259-2375\n",
      "(717) 450-4729\n",
      "(453) 391-4650\n",
      "(559) 104-5475\n",
      "(387) 142-9434\n",
      "(516) 745-4496\n",
      "(326) 677-3419\n",
      "(746) 679-2470\n",
      "(455) 430-0989\n",
      "(490) 936-4694\n",
      "(985) 834-8285\n",
      "(662) 661-1446\n",
      "(802) 668-8240\n",
      "(477) 768-9247\n",
      "(791) 239-9057\n",
      "(832) 109-0213\n",
      "(837) 196-3274\n",
      "(268) 442-2428\n",
      "(850) 676-5117\n",
      "(861) 546-5032\n",
      "(176) 805-4108\n",
      "(715) 912-6931\n",
      "(993) 554-0563\n",
      "(357) 616-5411\n",
      "(121) 347-0086\n",
      "(304) 506-6314\n",
      "(425) 288-2332\n",
      "(145) 987-4962\n",
      "(187) 582-9707\n",
      "(750) 558-3965\n",
      "(492) 467-3131\n",
      "(774) 914-2510\n",
      "(888) 106-8550\n",
      "(539) 567-3573\n",
      "(693) 337-2849\n",
      "(545) 604-9386\n",
      "(221) 156-5026\n",
      "(414) 876-0865\n",
      "(932) 726-8645\n",
      "(726) 710-9826\n",
      "(622) 594-1662\n",
      "(948) 600-8503\n",
      "(605) 900-7508\n",
      "(716) 977-5775\n",
      "(368) 239-8275\n",
      "(725) 342-0650\n",
      "(711) 993-5187\n",
      "(882) 399-5084\n",
      "(287) 755-9948\n",
      "(659) 551-3389\n",
      "(275) 730-6868\n",
      "(725) 757-4047\n",
      "(314) 882-1496\n",
      "(639) 360-7590\n",
      "(168) 222-1592\n",
      "(896) 303-1164\n",
      "(203) 982-6130\n",
      "(906) 217-1470\n",
      "(614) 514-1269\n",
      "(763) 409-5446\n",
      "(836) 292-5324\n",
      "(926) 709-3295\n",
      "(963) 356-9268\n",
      "(736) 522-8584\n",
      "(410) 483-0352\n",
      "(252) 204-1434\n",
      "(874) 886-4174\n",
      "(581) 379-7573\n",
      "(983) 632-8597\n",
      "(295) 983-3476\n",
      "(873) 392-8802\n",
      "(360) 669-3923\n",
      "(840) 987-9449\n",
      "(422) 517-6053\n",
      "(126) 940-2753\n",
      "(427) 930-5255\n",
      "(689) 721-5145\n",
      "(676) 334-2174\n",
      "(437) 994-5270\n",
      "(564) 908-6970\n",
      "(577) 333-6244\n",
      "(655) 840-6139\n"
     ]
    }
   ],
   "source": [
    "import urllib.request\n",
    "from re import findall\n",
    "url = \"https://www.summet.com/dmsi/html/codesamples/addresses.html\"\n",
    "response = urllib.request.urlopen(url)\n",
    "html = response.read()\n",
    "htmlstr = html.decode()\n",
    "\n",
    "data = findall(\"\\(\\d{3}\\) \\d{3}-\\d{4}\",htmlstr)\n",
    "\n",
    "for i in data:\n",
    "    print(i)"
   ]
  },
  {
   "cell_type": "code",
   "execution_count": null,
   "metadata": {
    "collapsed": true
   },
   "outputs": [],
   "source": []
  }
 ],
 "metadata": {
  "kernelspec": {
   "display_name": "Python 3",
   "language": "python",
   "name": "python3"
  },
  "language_info": {
   "codemirror_mode": {
    "name": "ipython",
    "version": 3
   },
   "file_extension": ".py",
   "mimetype": "text/x-python",
   "name": "python",
   "nbconvert_exporter": "python",
   "pygments_lexer": "ipython3",
   "version": "3.6.3"
  }
 },
 "nbformat": 4,
 "nbformat_minor": 2
}
